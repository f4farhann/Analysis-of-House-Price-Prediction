{
 "cells": [
  {
   "cell_type": "code",
   "execution_count": 2,
   "id": "ada2aa6f",
   "metadata": {},
   "outputs": [],
   "source": [
    "import pandas as pd\n",
    "import numpy as np\n",
    "import matplotlib.pyplot as plt\n",
    "import seaborn as sns\n",
    "from sklearn.model_selection import train_test_split\n",
    "from sklearn.linear_model import LinearRegression\n",
    "from sklearn.metrics import mean_absolute_error, mean_squared_error"
   ]
  },
  {
   "cell_type": "code",
   "execution_count": 3,
   "id": "069bb39b",
   "metadata": {},
   "outputs": [],
   "source": [
    "df = pd.read_csv('Bangalore_houses.csv')"
   ]
  },
  {
   "cell_type": "code",
   "execution_count": 4,
   "id": "932f6125",
   "metadata": {},
   "outputs": [],
   "source": [
    "X = df[['Avg. Area Income', 'Avg. Area House Age', 'Avg. Area Number of Rooms',\n",
    "        'Avg. Area Number of Bedrooms', 'Area Population']]\n",
    "y = df['Price']"
   ]
  },
  {
   "cell_type": "code",
   "execution_count": 5,
   "id": "7151b225",
   "metadata": {},
   "outputs": [],
   "source": [
    "X_train, X_test, y_train, y_test = train_test_split(X, y, test_size=0.1, random_state=42)"
   ]
  },
  {
   "cell_type": "code",
   "execution_count": 6,
   "id": "0ba51a12",
   "metadata": {},
   "outputs": [],
   "source": [
    "lr = LinearRegression()"
   ]
  },
  {
   "cell_type": "code",
   "execution_count": 7,
   "id": "443ff14b",
   "metadata": {},
   "outputs": [
    {
     "data": {
      "text/plain": [
       "LinearRegression()"
      ]
     },
     "execution_count": 7,
     "metadata": {},
     "output_type": "execute_result"
    }
   ],
   "source": [
    "lr.fit(X_train, y_train)"
   ]
  },
  {
   "cell_type": "code",
   "execution_count": 13,
   "id": "719654bc",
   "metadata": {},
   "outputs": [
    {
     "name": "stdout",
     "output_type": "stream",
     "text": [
      "Mean Absolute Error: 9241.364360631358\n",
      "Mean Squared Error: 111004614.19435003\n",
      "Root Mean Squared Error: 10535.872730550138\n"
     ]
    }
   ],
   "source": [
    "y_pred = lr.predict(X_test)\n",
    "mae = mean_absolute_error(y_test, y_pred)\n",
    "mse = mean_squared_error(y_test, y_pred)\n",
    "rmse = np.sqrt(mse)\n",
    "print(\"Mean Absolute Error:\", mae)\n",
    "print(\"Mean Squared Error:\", mse)\n",
    "print(\"Root Mean Squared Error:\", rmse)"
   ]
  },
  {
   "cell_type": "code",
   "execution_count": 69,
   "id": "b10a3041",
   "metadata": {},
   "outputs": [
    {
     "name": "stdout",
     "output_type": "stream",
     "text": [
      "Intercept: 28569.48244922403\n",
      "Coefficients: [ 2.51613348e-02 -4.80390184e+01  1.30778628e+03 -5.67577078e+02\n",
      "  1.67290235e-03]\n"
     ]
    }
   ],
   "source": [
    " print(\"Intercept:\", lr.intercept_)\n",
    "print(\"Coefficients:\", lr.coef_)"
   ]
  },
  {
   "cell_type": "code",
   "execution_count": 70,
   "id": "4e5c52af",
   "metadata": {},
   "outputs": [],
   "source": [
    "# Assuming you have already imported pandas as pd\n",
    "# Collect user input for features\n",
    "user_input = {\n",
    "    'Avg. Area Income': 545.45857,\n",
    "    'Avg. Area House Age': 1.682861322,\n",
    "    'Avg. Area Number of Rooms': 2.009188143,\n",
    "    'Avg. Area Number of Bedrooms': 2.09,\n",
    "    'Area Population': 2086.8005\n",
    "}\n",
    "\n",
    "# Create a new DataFrame using the user input\n",
    "user_df = pd.DataFrame(user_input, index=[0])\n"
   ]
  },
  {
   "cell_type": "code",
   "execution_count": 73,
   "id": "ef587080",
   "metadata": {},
   "outputs": [],
   "source": [
    "user_predictions = lr.predict(user_df)"
   ]
  },
  {
   "cell_type": "code",
   "execution_count": 74,
   "id": "ea763e0c",
   "metadata": {},
   "outputs": [
    {
     "name": "stdout",
     "output_type": "stream",
     "text": [
      "   Avg. Area Income  Avg. Area House Age  Avg. Area Number of Rooms  \\\n",
      "0         545.45857             1.682861                   2.009188   \n",
      "\n",
      "   Avg. Area Number of Bedrooms  Area Population  Predicted Price  \n",
      "0                          2.09        2086.8005     29947.207525  \n"
     ]
    }
   ],
   "source": [
    "# Create a new DataFrame to store the user input data and predictions\n",
    "results_df = pd.DataFrame({'Avg. Area Income': user_df['Avg. Area Income'],\n",
    "                           'Avg. Area House Age': user_df['Avg. Area House Age'],\n",
    "                           'Avg. Area Number of Rooms': user_df['Avg. Area Number of Rooms'],\n",
    "                           'Avg. Area Number of Bedrooms': user_df['Avg. Area Number of Bedrooms'],\n",
    "                           'Area Population': user_df['Area Population'],\n",
    "                           'Predicted Price': user_predictions})\n",
    "\n",
    "# Print the results DataFrame\n",
    "print(results_df)\n"
   ]
  },
  {
   "cell_type": "code",
   "execution_count": 77,
   "id": "7808016b",
   "metadata": {},
   "outputs": [
    {
     "data": {
      "text/plain": [
       "array([29947.20752499])"
      ]
     },
     "execution_count": 77,
     "metadata": {},
     "output_type": "execute_result"
    }
   ],
   "source": [
    "user_predictions"
   ]
  },
  {
   "cell_type": "code",
   "execution_count": 83,
   "id": "1056434b",
   "metadata": {},
   "outputs": [],
   "source": [
    "import joblib\n",
    "\n",
    "# Assuming you have already trained the Linear Regression model as 'lr'\n",
    "# Save the model to a file using joblib\n",
    "joblib.dump(lr, 'linear_regression_model.joblib')\n",
    "\n",
    "# Load the model from the file using joblib\n",
    "lr_loaded = joblib.load('linear_regression_model.joblib')\n",
    "# Now 'lr_loaded' is the trained Linear Regression model loaded from the file\n",
    "\n",
    "# Load the model from the file using pickle (if you prefer pickle instead of joblib)\n",
    "import pickle\n",
    "\n",
    "# Save the model to a file using pickle\n",
    "with open('linear_regression_model.pkl', 'wb') as file:\n",
    "    pickle.dump(lr, file)\n",
    "\n",
    "# Load the model from the file using pickle\n",
    "with open('linear_regression_model.pkl', 'rb') as file:\n",
    "    lr_loaded = pickle.load(file)\n",
    "# Now 'lr_loaded' is the trained Linear Regression model loaded from the file\n",
    "\n",
    "# Assuming 'user_input' is the user-provided input data as a JSON object\n",
    "# Create a DataFrame using the user input data\n",
    "import pandas as pd\n",
    "user_df = pd.DataFrame(user_input, index=[0])\n",
    "\n",
    "# Make predictions on the user input data using the loaded model\n",
    "user_predictions = lr_loaded.predict(user_df)\n"
   ]
  },
  {
   "cell_type": "code",
   "execution_count": 79,
   "id": "bb9655ed",
   "metadata": {},
   "outputs": [],
   "source": []
  }
 ],
 "metadata": {
  "kernelspec": {
   "display_name": "Python 3 (ipykernel)",
   "language": "python",
   "name": "python3"
  },
  "language_info": {
   "codemirror_mode": {
    "name": "ipython",
    "version": 3
   },
   "file_extension": ".py",
   "mimetype": "text/x-python",
   "name": "python",
   "nbconvert_exporter": "python",
   "pygments_lexer": "ipython3",
   "version": "3.9.12"
  }
 },
 "nbformat": 4,
 "nbformat_minor": 5
}
